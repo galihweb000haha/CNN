{
  "nbformat": 4,
  "nbformat_minor": 0,
  "metadata": {
    "colab": {
      "name": "fraudDetection.ipynb",
      "provenance": [],
      "authorship_tag": "ABX9TyNSHTDRQufQ8WCfivX3ZQoH",
      "include_colab_link": true
    },
    "kernelspec": {
      "name": "python3",
      "display_name": "Python 3"
    },
    "language_info": {
      "name": "python"
    }
  },
  "cells": [
    {
      "cell_type": "markdown",
      "metadata": {
        "id": "view-in-github",
        "colab_type": "text"
      },
      "source": [
        "<a href=\"https://colab.research.google.com/github/galihweb000haha/CNN/blob/main/fraudDetection.ipynb\" target=\"_parent\"><img src=\"https://colab.research.google.com/assets/colab-badge.svg\" alt=\"Open In Colab\"/></a>"
      ]
    },
    {
      "cell_type": "code",
      "execution_count": 1,
      "metadata": {
        "id": "YXZlGHhEFZ3G"
      },
      "outputs": [],
      "source": [
        "import torch\n",
        "from torch.utils.data import Dataset, DataLoader\n",
        "from torch.autograd import Variable\n",
        "import torch.nn as nn\n",
        "import torch.nn.functional as F\n",
        "import pandas as pd\n",
        "import numpy as np\n",
        "from sklearn.model_selection import train_test_split"
      ]
    },
    {
      "cell_type": "code",
      "source": [
        "data = pd.read_csv(\"creditcard.csv\")\n",
        "data = np.array(data)"
      ],
      "metadata": {
        "id": "ITNlkVW7Fax1"
      },
      "execution_count": 2,
      "outputs": []
    },
    {
      "cell_type": "code",
      "source": [
        "\n",
        "X_data = data[:, 0:-1]\n",
        "y_data = data[:, -1]\n",
        "X_train, X_test, y_train, y_test = train_test_split(X_data, y_data, test_size=0.33, random_state=42)"
      ],
      "metadata": {
        "id": "AVXzYkgOGWX4"
      },
      "execution_count": 3,
      "outputs": []
    },
    {
      "cell_type": "code",
      "source": [
        "class CreditCardTrainDataLoader(Dataset):\n",
        "    def __init__(self):\n",
        "        self.x_data = torch.from_numpy(X_train)\n",
        "        self.x_data.type(torch.FloatTensor)\n",
        "        self.y_data = torch.from_numpy(y_train)\n",
        "        self.y_data.type(torch.FloatTensor)\n",
        "        self.len = X_train.shape[0]\n",
        "\n",
        "    def __getitem__(self, index):\n",
        "        return self.x_data[index], self.y_data[index]\n",
        "\n",
        "    def __len__(self):\n",
        "        return self.len"
      ],
      "metadata": {
        "id": "IGrwPI1-GZjT"
      },
      "execution_count": 4,
      "outputs": []
    },
    {
      "cell_type": "code",
      "source": [
        "class CreditCardTestDataLoader(Dataset):\n",
        "    def __init__(self):\n",
        "        self.x_data = torch.from_numpy(X_test)\n",
        "        self.x_data.type(torch.FloatTensor)\n",
        "        self.y_data = torch.from_numpy(y_test)\n",
        "        self.y_data.type(torch.FloatTensor)\n",
        "        self.len = X_test.shape[0]\n",
        "\n",
        "    def __getitem__(self, index):\n",
        "        return self.x_data[index], self.y_data[index]\n",
        "\n",
        "    def __len__(self):\n",
        "        return self.len"
      ],
      "metadata": {
        "id": "--mrWkURGbVA"
      },
      "execution_count": 5,
      "outputs": []
    },
    {
      "cell_type": "code",
      "source": [
        "batch_size = 50\n",
        "\n",
        "data_set = CreditCardTrainDataLoader()\n",
        "train_loader = DataLoader(\n",
        "    dataset=data_set,\n",
        "    batch_size=batch_size,\n",
        "    shuffle=True\n",
        ")\n",
        "\n",
        "test_data_set = CreditCardTestDataLoader()\n",
        "test_loader = DataLoader(\n",
        "    dataset=test_data_set,\n",
        "    batch_size=1,\n",
        "    shuffle=False\n",
        ")\n"
      ],
      "metadata": {
        "id": "P1DYIQ3cGdyZ"
      },
      "execution_count": 6,
      "outputs": []
    },
    {
      "cell_type": "code",
      "source": [
        "class Model(nn.Module):\n",
        "    def __init__(self, input_dim, hidden_dim, output_dim):\n",
        "        super(Model, self).__init__()\n",
        "\n",
        "        self.layer1 = nn.Linear(input_dim, hidden_dim)\n",
        "        self.sigmoid = nn.Sigmoid()\n",
        "        self.layer2 = nn.Linear(hidden_dim, output_dim)\n",
        "\n",
        "    def forward(self, x):\n",
        "        out = self.layer1(x)\n",
        "        out = self.sigmoid(out)\n",
        "        out = self.layer2(out)\n",
        "        return out\n"
      ],
      "metadata": {
        "id": "Ohy7fP0jGgrW"
      },
      "execution_count": 7,
      "outputs": []
    },
    {
      "cell_type": "code",
      "source": [
        "input_dim = 30\n",
        "hidden_dim = 32\n",
        "num_of_classes = 2\n",
        "\n",
        "model = Model(input_dim, hidden_dim, num_of_classes)\n",
        "\n",
        "loss_func = nn.CrossEntropyLoss()\n",
        "optimizer = torch.optim.SGD(model.parameters(), lr=0.001)\n",
        "epochs = 5\n",
        "\n",
        "for epoch in range(epochs):\n",
        "    for i, (inputs, labels) in enumerate(train_loader):\n",
        "        inputs = Variable(inputs.type(torch.FloatTensor))\n",
        "        labels = Variable(labels.type(torch.FloatTensor))\n",
        "\n",
        "        optimizer.zero_grad()\n",
        "        outputs = model(inputs)\n",
        "        loss = loss_func(outputs, labels.type(torch.LongTensor))\n",
        "        loss.backward()\n",
        "        optimizer.step()\n",
        "\n",
        "        if(i+1) % 100 == 0:\n",
        "            total = 0\n",
        "            correct = 0\n",
        "            for ins, l in test_loader:\n",
        "                ins = Variable(ins.type(torch.FloatTensor))\n",
        "                outs = model(ins)\n",
        "                _, predicted = torch.max(outs.data, 1)\n",
        "\n",
        "                total += l.size(0)\n",
        "                equal = predicted.type(torch.IntTensor) == l.type(torch.IntTensor)\n",
        "                if int(equal) == 1:\n",
        "                    correct += 1\n",
        "\n",
        "            accuracy = 100 * correct/total\n",
        "            print(\"iteration \", i+1, \" in Epoch \", epoch, \" Loss : \", loss.data, \" Accuracy: \", accuracy)"
      ],
      "metadata": {
        "colab": {
          "base_uri": "https://localhost:8080/"
        },
        "id": "w-E4fcXcGieJ",
        "outputId": "9c43398f-2913-4106-a456-7819dae742d3"
      },
      "execution_count": 10,
      "outputs": [
        {
          "output_type": "stream",
          "name": "stdout",
          "text": [
            "iteration  100  in Epoch  0  Loss :  tensor(0.3301)  Accuracy:  99.4932860400304\n",
            "iteration  100  in Epoch  1  Loss :  tensor(0.1669)  Accuracy:  99.4932860400304\n",
            "iteration  100  in Epoch  2  Loss :  tensor(0.0777)  Accuracy:  99.4932860400304\n",
            "iteration  100  in Epoch  3  Loss :  tensor(0.0558)  Accuracy:  99.4932860400304\n",
            "iteration  100  in Epoch  4  Loss :  tensor(0.1062)  Accuracy:  99.4932860400304\n"
          ]
        }
      ]
    },
    {
      "cell_type": "code",
      "source": [
        ""
      ],
      "metadata": {
        "id": "rxpWoSLZGqQr"
      },
      "execution_count": null,
      "outputs": []
    }
  ]
}