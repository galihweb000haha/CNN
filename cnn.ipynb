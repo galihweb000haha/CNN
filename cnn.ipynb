{
  "nbformat": 4,
  "nbformat_minor": 0,
  "metadata": {
    "colab": {
      "name": "Untitled6.ipynb",
      "provenance": [],
      "authorship_tag": "ABX9TyMR/Dln87d5gk5/umwmFwmP",
      "include_colab_link": true
    },
    "kernelspec": {
      "name": "python3",
      "display_name": "Python 3"
    },
    "language_info": {
      "name": "python"
    }
  },
  "cells": [
    {
      "cell_type": "markdown",
      "metadata": {
        "id": "view-in-github",
        "colab_type": "text"
      },
      "source": [
        "<a href=\"https://colab.research.google.com/github/galihweb000haha/CNN/blob/main/cnn.ipynb\" target=\"_parent\"><img src=\"https://colab.research.google.com/assets/colab-badge.svg\" alt=\"Open In Colab\"/></a>"
      ]
    },
    {
      "cell_type": "code",
      "metadata": {
        "id": "vlX-IFNQ_qtt"
      },
      "source": [
        "import numpy as np\n",
        "import pandas as pd"
      ],
      "execution_count": 167,
      "outputs": []
    },
    {
      "cell_type": "code",
      "metadata": {
        "colab": {
          "base_uri": "https://localhost:8080/",
          "height": 479
        },
        "id": "iMnXbaJ8AKRV",
        "outputId": "730cfd9a-945c-44bf-9c12-e8568ffc2d66"
      },
      "source": [
        "data_courses = pd.read_csv('udemy_courses.csv')\n",
        "data_courses.head()"
      ],
      "execution_count": 168,
      "outputs": [
        {
          "output_type": "execute_result",
          "data": {
            "text/html": [
              "<div>\n",
              "<style scoped>\n",
              "    .dataframe tbody tr th:only-of-type {\n",
              "        vertical-align: middle;\n",
              "    }\n",
              "\n",
              "    .dataframe tbody tr th {\n",
              "        vertical-align: top;\n",
              "    }\n",
              "\n",
              "    .dataframe thead th {\n",
              "        text-align: right;\n",
              "    }\n",
              "</style>\n",
              "<table border=\"1\" class=\"dataframe\">\n",
              "  <thead>\n",
              "    <tr style=\"text-align: right;\">\n",
              "      <th></th>\n",
              "      <th>course_id</th>\n",
              "      <th>course_title</th>\n",
              "      <th>url</th>\n",
              "      <th>is_paid</th>\n",
              "      <th>price</th>\n",
              "      <th>num_subscribers</th>\n",
              "      <th>num_reviews</th>\n",
              "      <th>num_lectures</th>\n",
              "      <th>level</th>\n",
              "      <th>content_duration</th>\n",
              "      <th>published_timestamp</th>\n",
              "      <th>subject</th>\n",
              "    </tr>\n",
              "  </thead>\n",
              "  <tbody>\n",
              "    <tr>\n",
              "      <th>0</th>\n",
              "      <td>1070968</td>\n",
              "      <td>Ultimate Investment Banking Course</td>\n",
              "      <td>https://www.udemy.com/ultimate-investment-bank...</td>\n",
              "      <td>True</td>\n",
              "      <td>200</td>\n",
              "      <td>2147</td>\n",
              "      <td>23</td>\n",
              "      <td>51</td>\n",
              "      <td>All Levels</td>\n",
              "      <td>1.5</td>\n",
              "      <td>2017-01-18T20:58:58Z</td>\n",
              "      <td>Business Finance</td>\n",
              "    </tr>\n",
              "    <tr>\n",
              "      <th>1</th>\n",
              "      <td>1113822</td>\n",
              "      <td>Complete GST Course &amp; Certification - Grow You...</td>\n",
              "      <td>https://www.udemy.com/goods-and-services-tax/</td>\n",
              "      <td>True</td>\n",
              "      <td>75</td>\n",
              "      <td>2792</td>\n",
              "      <td>923</td>\n",
              "      <td>274</td>\n",
              "      <td>All Levels</td>\n",
              "      <td>39.0</td>\n",
              "      <td>2017-03-09T16:34:20Z</td>\n",
              "      <td>Business Finance</td>\n",
              "    </tr>\n",
              "    <tr>\n",
              "      <th>2</th>\n",
              "      <td>1006314</td>\n",
              "      <td>Financial Modeling for Business Analysts and C...</td>\n",
              "      <td>https://www.udemy.com/financial-modeling-for-b...</td>\n",
              "      <td>True</td>\n",
              "      <td>45</td>\n",
              "      <td>2174</td>\n",
              "      <td>74</td>\n",
              "      <td>51</td>\n",
              "      <td>Intermediate Level</td>\n",
              "      <td>2.5</td>\n",
              "      <td>2016-12-19T19:26:30Z</td>\n",
              "      <td>Business Finance</td>\n",
              "    </tr>\n",
              "    <tr>\n",
              "      <th>3</th>\n",
              "      <td>1210588</td>\n",
              "      <td>Beginner to Pro - Financial Analysis in Excel ...</td>\n",
              "      <td>https://www.udemy.com/complete-excel-finance-c...</td>\n",
              "      <td>True</td>\n",
              "      <td>95</td>\n",
              "      <td>2451</td>\n",
              "      <td>11</td>\n",
              "      <td>36</td>\n",
              "      <td>All Levels</td>\n",
              "      <td>3.0</td>\n",
              "      <td>2017-05-30T20:07:24Z</td>\n",
              "      <td>Business Finance</td>\n",
              "    </tr>\n",
              "    <tr>\n",
              "      <th>4</th>\n",
              "      <td>1011058</td>\n",
              "      <td>How To Maximize Your Profits Trading Options</td>\n",
              "      <td>https://www.udemy.com/how-to-maximize-your-pro...</td>\n",
              "      <td>True</td>\n",
              "      <td>200</td>\n",
              "      <td>1276</td>\n",
              "      <td>45</td>\n",
              "      <td>26</td>\n",
              "      <td>Intermediate Level</td>\n",
              "      <td>2.0</td>\n",
              "      <td>2016-12-13T14:57:18Z</td>\n",
              "      <td>Business Finance</td>\n",
              "    </tr>\n",
              "  </tbody>\n",
              "</table>\n",
              "</div>"
            ],
            "text/plain": [
              "   course_id  ...           subject\n",
              "0    1070968  ...  Business Finance\n",
              "1    1113822  ...  Business Finance\n",
              "2    1006314  ...  Business Finance\n",
              "3    1210588  ...  Business Finance\n",
              "4    1011058  ...  Business Finance\n",
              "\n",
              "[5 rows x 12 columns]"
            ]
          },
          "metadata": {
            "tags": []
          },
          "execution_count": 168
        }
      ]
    },
    {
      "cell_type": "code",
      "metadata": {
        "id": "vE53yKqYAQ89"
      },
      "source": [
        "def min_max_scaling(df):\n",
        "  df_norm = df.copy()\n",
        "  for column in df_norm.columns:\n",
        "    df_norm[column] = (df_norm[column] - df_norm[column].min()) / (df_norm[column].max() - df_norm[column].min())\n",
        "  return df_norm"
      ],
      "execution_count": 169,
      "outputs": []
    },
    {
      "cell_type": "code",
      "metadata": {
        "colab": {
          "base_uri": "https://localhost:8080/"
        },
        "id": "CmDp4dytAxvN",
        "outputId": "229b0d7c-3bda-4659-80c9-0e06efd82222"
      },
      "source": [
        "norm_data_courses = min_max_scaling(data_courses[['price', 'num_subscribers', 'num_reviews', 'num_lectures']])\n",
        "print(norm_data_courses)"
      ],
      "execution_count": 170,
      "outputs": [
        {
          "output_type": "stream",
          "text": [
            "      price  num_subscribers  num_reviews  num_lectures\n",
            "0     1.000         0.007984     0.000838      0.065469\n",
            "1     0.375         0.010382     0.033631      0.351733\n",
            "2     0.225         0.008084     0.002696      0.065469\n",
            "3     0.475         0.009114     0.000401      0.046213\n",
            "4     1.000         0.004745     0.001640      0.033376\n",
            "...     ...              ...          ...           ...\n",
            "3673  0.500         0.003867     0.000510      0.026958\n",
            "3674  0.125         0.001138     0.000109      0.053915\n",
            "3675  0.200         0.001908     0.006158      0.061617\n",
            "3676  0.250         0.001116     0.001130      0.048780\n",
            "3677  0.225         0.003350     0.001312      0.025674\n",
            "\n",
            "[3678 rows x 4 columns]\n"
          ],
          "name": "stdout"
        }
      ]
    },
    {
      "cell_type": "code",
      "metadata": {
        "id": "POrwZFIUB33D",
        "colab": {
          "base_uri": "https://localhost:8080/"
        },
        "outputId": "1975a51b-e7f3-4820-8784-cb8080352b6a"
      },
      "source": [
        "target_output = data_courses[['level']].replace(['All Levels', 'Beginner Level', 'Intermediate Level', 'Expert Level'], [0, 1, 2, 3])\n",
        "print(target_output)"
      ],
      "execution_count": 171,
      "outputs": [
        {
          "output_type": "stream",
          "text": [
            "      level\n",
            "0         0\n",
            "1         0\n",
            "2         2\n",
            "3         0\n",
            "4         2\n",
            "...     ...\n",
            "3673      0\n",
            "3674      1\n",
            "3675      0\n",
            "3676      0\n",
            "3677      1\n",
            "\n",
            "[3678 rows x 1 columns]\n"
          ],
          "name": "stdout"
        }
      ]
    },
    {
      "cell_type": "code",
      "metadata": {
        "colab": {
          "base_uri": "https://localhost:8080/"
        },
        "id": "OhzLbhPbjxVj",
        "outputId": "54d7e372-7a02-4908-8044-05751bd18011"
      },
      "source": [
        "norm_data_courses = pd.concat([norm_data_courses, target_output], axis=1)\n",
        "print(norm_data_courses)"
      ],
      "execution_count": 172,
      "outputs": [
        {
          "output_type": "stream",
          "text": [
            "      price  num_subscribers  num_reviews  num_lectures  level\n",
            "0     1.000         0.007984     0.000838      0.065469      0\n",
            "1     0.375         0.010382     0.033631      0.351733      0\n",
            "2     0.225         0.008084     0.002696      0.065469      2\n",
            "3     0.475         0.009114     0.000401      0.046213      0\n",
            "4     1.000         0.004745     0.001640      0.033376      2\n",
            "...     ...              ...          ...           ...    ...\n",
            "3673  0.500         0.003867     0.000510      0.026958      0\n",
            "3674  0.125         0.001138     0.000109      0.053915      1\n",
            "3675  0.200         0.001908     0.006158      0.061617      0\n",
            "3676  0.250         0.001116     0.001130      0.048780      0\n",
            "3677  0.225         0.003350     0.001312      0.025674      1\n",
            "\n",
            "[3678 rows x 5 columns]\n"
          ],
          "name": "stdout"
        }
      ]
    },
    {
      "cell_type": "code",
      "metadata": {
        "colab": {
          "base_uri": "https://localhost:8080/"
        },
        "id": "fvuqJzT1kke_",
        "outputId": "af745d4c-fb69-425d-f5d6-1f3ecab1b7e6"
      },
      "source": [
        "presentase_test_training = 90/100.0\n",
        "norm_data_courses['training'] = np.random.rand(len(norm_data_courses)) < presentase_test_training\n",
        "print(norm_data_courses)"
      ],
      "execution_count": 173,
      "outputs": [
        {
          "output_type": "stream",
          "text": [
            "      price  num_subscribers  num_reviews  num_lectures  level  training\n",
            "0     1.000         0.007984     0.000838      0.065469      0      True\n",
            "1     0.375         0.010382     0.033631      0.351733      0      True\n",
            "2     0.225         0.008084     0.002696      0.065469      2     False\n",
            "3     0.475         0.009114     0.000401      0.046213      0      True\n",
            "4     1.000         0.004745     0.001640      0.033376      2     False\n",
            "...     ...              ...          ...           ...    ...       ...\n",
            "3673  0.500         0.003867     0.000510      0.026958      0      True\n",
            "3674  0.125         0.001138     0.000109      0.053915      1      True\n",
            "3675  0.200         0.001908     0.006158      0.061617      0      True\n",
            "3676  0.250         0.001116     0.001130      0.048780      0      True\n",
            "3677  0.225         0.003350     0.001312      0.025674      1      True\n",
            "\n",
            "[3678 rows x 6 columns]\n"
          ],
          "name": "stdout"
        }
      ]
    },
    {
      "cell_type": "code",
      "metadata": {
        "colab": {
          "base_uri": "https://localhost:8080/"
        },
        "id": "HMb0CLIhk5oq",
        "outputId": "31bbe871-3c12-497f-c5d8-d649ed818144"
      },
      "source": [
        "training_data_courses = norm_data_courses[norm_data_courses.training == True]\n",
        "training_data_courses = training_data_courses.drop('training', axis=1).sample(frac=1)\n",
        "print(training_data_courses)"
      ],
      "execution_count": 174,
      "outputs": [
        {
          "output_type": "stream",
          "text": [
            "      price  num_subscribers  num_reviews  num_lectures  level\n",
            "1445  0.150         0.002625     0.000364      0.030809      1\n",
            "699   0.250         0.012736     0.000364      0.064185      0\n",
            "1977  0.250         0.000000     0.000000      0.039795      1\n",
            "943   0.000         0.007880     0.004044      0.069320      0\n",
            "3553  0.250         0.004708     0.003279      0.064185      0\n",
            "...     ...              ...          ...           ...    ...\n",
            "747   0.000         0.002670     0.000474      0.008986      1\n",
            "1165  0.325         0.000119     0.000219      0.038511      0\n",
            "3436  0.125         0.006154     0.000364      0.056483      2\n",
            "1434  0.100         0.001380     0.000182      0.033376      0\n",
            "329   0.300         0.003600     0.002951      0.012837      2\n",
            "\n",
            "[3315 rows x 5 columns]\n"
          ],
          "name": "stdout"
        }
      ]
    },
    {
      "cell_type": "code",
      "metadata": {
        "colab": {
          "base_uri": "https://localhost:8080/"
        },
        "id": "ENzO-EsFlj55",
        "outputId": "54da7d1d-b232-44c0-f4e3-f4d571853056"
      },
      "source": [
        "test_data_courses = norm_data_courses[norm_data_courses.training == False]\n",
        "test_data_courses = test_data_courses.drop('training', axis=1).sample(frac=1)\n",
        "print(test_data_courses)"
      ],
      "execution_count": 175,
      "outputs": [
        {
          "output_type": "stream",
          "text": [
            "      price  num_subscribers  num_reviews  num_lectures  level\n",
            "1573  0.375         0.013108     0.003972      0.042362      2\n",
            "2431  0.100         0.000093     0.000036      0.012837      1\n",
            "120   0.250         0.003927     0.000036      0.053915      0\n",
            "2978  0.925         0.002108     0.002296      0.043646      0\n",
            "2882  0.100         0.018801     0.002696      0.014121      1\n",
            "...     ...              ...          ...           ...    ...\n",
            "1312  0.000         0.011539     0.001530      0.014121      1\n",
            "1631  0.100         0.036616     0.000874      0.044929      0\n",
            "1520  0.150         0.000048     0.000146      0.237484      1\n",
            "656   0.250         0.008263     0.000874      0.014121      0\n",
            "3666  0.200         0.003265     0.000219      0.010270      0\n",
            "\n",
            "[363 rows x 5 columns]\n"
          ],
          "name": "stdout"
        }
      ]
    },
    {
      "cell_type": "code",
      "metadata": {
        "colab": {
          "base_uri": "https://localhost:8080/"
        },
        "id": "yY0WrKivl5dA",
        "outputId": "8827a883-f95c-4376-c900-19d713542541"
      },
      "source": [
        "training_inputs = training_data_courses.values[:,:5]\n",
        "print(training_inputs)"
      ],
      "execution_count": 176,
      "outputs": [
        {
          "output_type": "stream",
          "text": [
            "[[1.50000000e-01 2.62528679e-03 3.64365094e-04 3.08087291e-02\n",
            "  1.00000000e+00]\n",
            " [2.50000000e-01 1.27359876e-02 3.64365094e-04 6.41848524e-02\n",
            "  0.00000000e+00]\n",
            " [2.50000000e-01 0.00000000e+00 0.00000000e+00 3.97946085e-02\n",
            "  1.00000000e+00]\n",
            " ...\n",
            " [1.25000000e-01 6.15417796e-03 3.64365094e-04 5.64826701e-02\n",
            "  2.00000000e+00]\n",
            " [1.00000000e-01 1.37957705e-03 1.82182547e-04 3.33761232e-02\n",
            "  0.00000000e+00]\n",
            " [3.00000000e-01 3.59954336e-03 2.95135726e-03 1.28369705e-02\n",
            "  2.00000000e+00]]\n"
          ],
          "name": "stdout"
        }
      ]
    },
    {
      "cell_type": "code",
      "metadata": {
        "colab": {
          "base_uri": "https://localhost:8080/"
        },
        "id": "5Q64zgRPmD7h",
        "outputId": "c90ca316-3d55-4dd0-ec98-4721edc60c6d"
      },
      "source": [
        "target_outputs = [[1,0,0,0],[0,1,0,0],[0,0,1,0],[0,0,0,1]]\n",
        "target_outputs = np.array([target_outputs[int(x)] for x in training_data_courses.values[:,4:5]])\n",
        "print(training_data_courses.values[:,4:5])\n",
        "print(target_outputs)\n"
      ],
      "execution_count": 177,
      "outputs": [
        {
          "output_type": "stream",
          "text": [
            "[[1.]\n",
            " [0.]\n",
            " [1.]\n",
            " ...\n",
            " [2.]\n",
            " [0.]\n",
            " [2.]]\n",
            "[[0 1 0 0]\n",
            " [1 0 0 0]\n",
            " [0 1 0 0]\n",
            " ...\n",
            " [0 0 1 0]\n",
            " [1 0 0 0]\n",
            " [0 0 1 0]]\n"
          ],
          "name": "stdout"
        }
      ]
    },
    {
      "cell_type": "code",
      "metadata": {
        "colab": {
          "base_uri": "https://localhost:8080/"
        },
        "cellView": "code",
        "id": "0fEN5nrcmhKy",
        "outputId": "5efebc16-cac6-432b-d456-9cb4813e1252"
      },
      "source": [
        "jumlah_input = len(training_inputs[0])\n",
        "jumlah_neuron_hidden_layer = 5\n",
        "np.random.seed(1)\n",
        "synaptic_weights_1 = 2 * np.random.random((jumlah_input, jumlah_neuron_hidden_layer))-1\n",
        "\n",
        "print(synaptic_weights_1)"
      ],
      "execution_count": 178,
      "outputs": [
        {
          "output_type": "stream",
          "text": [
            "[[-0.16595599  0.44064899 -0.99977125 -0.39533485 -0.70648822]\n",
            " [-0.81532281 -0.62747958 -0.30887855 -0.20646505  0.07763347]\n",
            " [-0.16161097  0.370439   -0.5910955   0.75623487 -0.94522481]\n",
            " [ 0.34093502 -0.1653904   0.11737966 -0.71922612 -0.60379702]\n",
            " [ 0.60148914  0.93652315 -0.37315164  0.38464523  0.7527783 ]]\n"
          ],
          "name": "stdout"
        }
      ]
    },
    {
      "cell_type": "code",
      "metadata": {
        "colab": {
          "base_uri": "https://localhost:8080/"
        },
        "id": "sc61PyrCpaiT",
        "outputId": "2a4773db-ba07-44cd-8367-32cba1b55c48"
      },
      "source": [
        "jumlah_output = len(target_outputs[0])\n",
        "synaptic_weights_2 = 2 * np.random.random((jumlah_neuron_hidden_layer, jumlah_output)) -1\n",
        "print(synaptic_weights_2)"
      ],
      "execution_count": 179,
      "outputs": [
        {
          "output_type": "stream",
          "text": [
            "[[ 0.78921333 -0.82991158 -0.92189043 -0.66033916]\n",
            " [ 0.75628501 -0.80330633 -0.15778475  0.91577906]\n",
            " [ 0.06633057  0.38375423 -0.36896874  0.37300186]\n",
            " [ 0.66925134 -0.96342345  0.50028863  0.97772218]\n",
            " [ 0.49633131 -0.43911202  0.57855866 -0.79354799]]\n"
          ],
          "name": "stdout"
        }
      ]
    },
    {
      "cell_type": "code",
      "metadata": {
        "id": "NAFNvyoEnO_Z"
      },
      "source": [
        "def sigmoid(x):\n",
        "  return 1/(1+np.exp(-x))"
      ],
      "execution_count": 180,
      "outputs": []
    },
    {
      "cell_type": "code",
      "metadata": {
        "id": "IIplCpZ6neFe"
      },
      "source": [
        "def sigmoid_derivative(x):\n",
        "  return x*(1-x)"
      ],
      "execution_count": 181,
      "outputs": []
    },
    {
      "cell_type": "code",
      "metadata": {
        "colab": {
          "base_uri": "https://localhost:8080/"
        },
        "id": "OmMpXSwOnj3D",
        "outputId": "dea8d7d6-7737-4c52-ae15-2a0d5e228cf0"
      },
      "source": [
        "learning_rate = 0.01\n",
        "for i in range(50):\n",
        "  outputs_1 = sigmoid(np.dot(training_inputs, synaptic_weights_1))\n",
        "  outputs_2 = sigmoid(np.dot(outputs_1, synaptic_weights_2))\n",
        "\n",
        "  error = (target_outputs - outputs_2)\n",
        "  error_mean = abs(error).mean()\n",
        "\n",
        "  adjusment_2 = error * sigmoid_derivative(outputs_2)\n",
        "  adjusment_1 = adjusment_2.dot(synaptic_weights_2.T) * sigmoid_derivative(outputs_1)\n",
        "\n",
        "  synaptic_weights_2 += outputs_1.T.dot(adjusment_2) * learning_rate\n",
        "  synaptic_weights_1 += training_inputs.T.dot(adjusment_1) * learning_rate\n",
        "print('synaptic weight antara input dan hidden layer setelah training')\n",
        "print(synaptic_weights_1)"
      ],
      "execution_count": 182,
      "outputs": [
        {
          "output_type": "stream",
          "text": [
            "synaptic weight antara input dan hidden layer setelah training\n",
            "[[ 0.91378474  0.54584513 -0.32525564  1.19685625 -1.21520883]\n",
            " [-0.71187756 -0.58664349 -0.22998494 -0.10717052  0.03050179]\n",
            " [-0.1293945   0.3866799  -0.57122756  0.8058847  -0.96819719]\n",
            " [ 0.57116129 -0.07834463  0.26765723 -0.31889097 -0.77319335]\n",
            " [-1.34357565 -1.72473616 -1.14184217 -4.98548193  4.12824407]]\n"
          ],
          "name": "stdout"
        }
      ]
    },
    {
      "cell_type": "code",
      "metadata": {
        "colab": {
          "base_uri": "https://localhost:8080/"
        },
        "id": "eTc-A8itp7eb",
        "outputId": "007058df-aba6-4708-eb5a-27dea1818126"
      },
      "source": [
        "test_inputs = test_data_courses.values[:,:5]\n",
        "len(test_inputs)\n",
        "target_outputs = [[1,0,0,0],[0,1,0,0],[0,0,1,0],[0,0,0,1]]\n",
        "target_outputs = np.array([target_outputs[int(x)] for x in test_data_courses.values[:,4:5]])\n",
        "print(target_outputs)"
      ],
      "execution_count": 183,
      "outputs": [
        {
          "output_type": "stream",
          "text": [
            "[[0 0 1 0]\n",
            " [0 1 0 0]\n",
            " [1 0 0 0]\n",
            " ...\n",
            " [0 1 0 0]\n",
            " [1 0 0 0]\n",
            " [1 0 0 0]]\n"
          ],
          "name": "stdout"
        }
      ]
    },
    {
      "cell_type": "code",
      "metadata": {
        "colab": {
          "base_uri": "https://localhost:8080/"
        },
        "id": "Sn-qsQxksKYY",
        "outputId": "3eaa9bf8-c2a3-4fa3-bdf7-9d5089a07978"
      },
      "source": [
        "outputs_1 = sigmoid(np.dot(test_inputs, synaptic_weights_1))\n",
        "outputs_2 = sigmoid(np.dot(outputs_1, synaptic_weights_2))\n",
        "print(np.round(outputs_2, 3))\n",
        "len(outputs_1)"
      ],
      "execution_count": 220,
      "outputs": [
        {
          "output_type": "stream",
          "text": [
            "[[0.02  0.687 0.57  0.043]\n",
            " [0.045 0.708 0.2   0.018]\n",
            " [0.968 0.096 0.001 0.004]\n",
            " ...\n",
            " [0.048 0.714 0.172 0.016]\n",
            " [0.967 0.094 0.001 0.004]\n",
            " [0.962 0.102 0.001 0.004]]\n"
          ],
          "name": "stdout"
        },
        {
          "output_type": "execute_result",
          "data": {
            "text/plain": [
              "363"
            ]
          },
          "metadata": {
            "tags": []
          },
          "execution_count": 220
        }
      ]
    },
    {
      "cell_type": "code",
      "metadata": {
        "colab": {
          "base_uri": "https://localhost:8080/"
        },
        "id": "bxomVzgPtU8J",
        "outputId": "a48fbe90-f5a9-4a26-e6be-b6c0f36319e4"
      },
      "source": [
        "prediksi = np.around(outputs_2)\n",
        "discrepancy = np.argmax(prediksi, axis=1) == np.argmax(target_outputs, axis=1)\n",
        "presentase_benar = np.sum(discrepancy)/len(discrepancy)\n",
        "\n",
        "hasil_test = test_data_courses[['level']].replace([0, 1, 2, 3], ['All Levels', 'Beginner Level', 'Intermediate Level', 'Expert Level'])\n",
        "hasil_test['Prediction'] = np.argmax(outputs_2, axis=1)\n",
        "hasil_test['Prediction'] = hasil_test['Prediction'].replace([0,1,2,3],['All Levels', 'Beginner Level', 'Intermediate Level', 'Expert Level'])\n",
        "\n",
        "print(hasil_test)\n",
        "print(' ')\n",
        "print('Correct: ', sum(discrepancy), '/', len(hasil_test), (presentase_benar*100), '%')"
      ],
      "execution_count": 222,
      "outputs": [
        {
          "output_type": "stream",
          "text": [
            "                   level      Prediction\n",
            "1573  Intermediate Level  Beginner Level\n",
            "2431      Beginner Level  Beginner Level\n",
            "120           All Levels      All Levels\n",
            "2978          All Levels      All Levels\n",
            "2882      Beginner Level  Beginner Level\n",
            "...                  ...             ...\n",
            "1312      Beginner Level  Beginner Level\n",
            "1631          All Levels      All Levels\n",
            "1520      Beginner Level  Beginner Level\n",
            "656           All Levels      All Levels\n",
            "3666          All Levels      All Levels\n",
            "\n",
            "[363 rows x 2 columns]\n",
            " \n",
            "Correct:  317 / 363 87.32782369146005 %\n"
          ],
          "name": "stdout"
        }
      ]
    },
    {
      "cell_type": "code",
      "metadata": {
        "id": "nxB0-pc0ucdU"
      },
      "source": [
        "\n"
      ],
      "execution_count": null,
      "outputs": []
    }
  ]
}